{
  "nbformat": 4,
  "nbformat_minor": 0,
  "metadata": {
    "colab": {
      "provenance": [],
      "toc_visible": true,
      "include_colab_link": true
    },
    "kernelspec": {
      "name": "python3",
      "display_name": "Python 3"
    },
    "language_info": {
      "name": "python"
    }
  },
  "cells": [
    {
      "cell_type": "markdown",
      "metadata": {
        "id": "view-in-github",
        "colab_type": "text"
      },
      "source": [
        "<a href=\"https://colab.research.google.com/github/Ajiteshreddy7/Object-Detection/blob/main/crime_rate_prediction.ipynb\" target=\"_parent\"><img src=\"https://colab.research.google.com/assets/colab-badge.svg\" alt=\"Open In Colab\"/></a>"
      ]
    },
    {
      "cell_type": "markdown",
      "source": [
        "# 0.0 Spark Environment Setup"
      ],
      "metadata": {
        "id": "p9CdGIXCdWZQ"
      }
    },
    {
      "cell_type": "code",
      "source": [
        "#pyspark setup\n",
        "\n",
        "!apt-get update\n",
        "# Install Java 8 (required by Spark)\n",
        "!apt-get install openjdk-11-jdk-headless -qq > /dev/null\n",
        "\n",
        "# Install Spark\n",
        "!pip install pyspark\n",
        "\n",
        "# setup environment variables\n",
        "import os\n",
        "# os.environ[\"JAVA_HOME\"] = \"/usr/lib/jvm/java-11-openjdk-amd64\"\n",
        "# os.environ[\"SPARK_HOME\"] = \"/usr/local/lib/python3.10/dist-packages/pyspark\""
      ],
      "metadata": {
        "id": "3DFPxoYHdeO8",
        "outputId": "831f7f17-f361-4613-aeec-2c6883b46d5e",
        "colab": {
          "base_uri": "https://localhost:8080/"
        }
      },
      "execution_count": 1,
      "outputs": [
        {
          "output_type": "stream",
          "name": "stdout",
          "text": [
            "\r0% [Working]\r            \rGet:1 https://cloud.r-project.org/bin/linux/ubuntu jammy-cran40/ InRelease [3,626 B]\n",
            "\r0% [Waiting for headers] [Waiting for headers] [1 InRelease 3,626 B/3,626 B 100%] [Waiting for heade\r0% [Waiting for headers] [Waiting for headers] [Waiting for headers] [Waiting for headers] [Connecte\r                                                                                                    \rGet:2 https://developer.download.nvidia.com/compute/cuda/repos/ubuntu2204/x86_64  InRelease [1,581 B]\n",
            "\r0% [Waiting for headers] [Waiting for headers] [Waiting for headers] [Connected to ppa.launchpadcont\r                                                                                                    \rGet:3 http://security.ubuntu.com/ubuntu jammy-security InRelease [129 kB]\n",
            "Hit:4 http://archive.ubuntu.com/ubuntu jammy InRelease\n",
            "Get:5 https://r2u.stat.illinois.edu/ubuntu jammy InRelease [6,555 B]\n",
            "Get:6 http://archive.ubuntu.com/ubuntu jammy-updates InRelease [128 kB]\n",
            "Hit:7 https://ppa.launchpadcontent.net/deadsnakes/ppa/ubuntu jammy InRelease\n",
            "Hit:8 https://ppa.launchpadcontent.net/graphics-drivers/ppa/ubuntu jammy InRelease\n",
            "Get:9 https://developer.download.nvidia.com/compute/cuda/repos/ubuntu2204/x86_64  Packages [1,108 kB]\n",
            "Get:10 http://archive.ubuntu.com/ubuntu jammy-backports InRelease [127 kB]\n",
            "Hit:11 https://ppa.launchpadcontent.net/ubuntugis/ppa/ubuntu jammy InRelease\n",
            "Get:12 https://r2u.stat.illinois.edu/ubuntu jammy/main all Packages [8,472 kB]\n",
            "Get:13 https://r2u.stat.illinois.edu/ubuntu jammy/main amd64 Packages [2,612 kB]\n",
            "Get:14 http://security.ubuntu.com/ubuntu jammy-security/main amd64 Packages [2,424 kB]\n",
            "Get:15 http://archive.ubuntu.com/ubuntu jammy-updates/main amd64 Packages [2,700 kB]\n",
            "Get:16 http://archive.ubuntu.com/ubuntu jammy-updates/universe amd64 Packages [1,452 kB]\n",
            "Fetched 19.2 MB in 7s (2,574 kB/s)\n",
            "Reading package lists... Done\n",
            "W: Skipping acquire of configured file 'main/source/Sources' as repository 'https://r2u.stat.illinois.edu/ubuntu jammy InRelease' does not seem to provide it (sources.list entry misspelt?)\n",
            "Requirement already satisfied: pyspark in /usr/local/lib/python3.10/dist-packages (3.5.3)\n",
            "Requirement already satisfied: py4j==0.10.9.7 in /usr/local/lib/python3.10/dist-packages (from pyspark) (0.10.9.7)\n"
          ]
        }
      ]
    },
    {
      "cell_type": "markdown",
      "source": [
        "# 0.1 Crime Data Generation"
      ],
      "metadata": {
        "id": "2gI9aYVtdmRG"
      }
    },
    {
      "cell_type": "code",
      "source": [
        "import pyspark\n",
        "from pyspark.sql import SparkSession\n",
        "\n",
        "# Create or get an existing Spark session\n",
        "spark = SparkSession.builder.master(\"local[*]\").appName(\"Crime-rate-prediction\").getOrCreate()"
      ],
      "metadata": {
        "id": "COLjlaHedtuv"
      },
      "execution_count": 2,
      "outputs": []
    },
    {
      "cell_type": "code",
      "source": [
        "import pandas as pd\n",
        "import numpy as np\n",
        "\n",
        "def generate_city_crime_data(num_cities=100, seed=42):\n",
        "    \"\"\"\n",
        "    Generates synthetic data for city crime rates with logical correlations and occasional null values.\n",
        "\n",
        "    Args:\n",
        "    - num_cities (int): Number of cities to generate data for.\n",
        "    - seed (int): Random seed for reproducibility.\n",
        "\n",
        "    Returns:\n",
        "    - pd.DataFrame: A DataFrame containing the generated data.\n",
        "    \"\"\"\n",
        "    np.random.seed(seed)\n",
        "\n",
        "    # Generate city names\n",
        "    cities = [f\"City{i}\" for i in range(1, num_cities + 1)]\n",
        "\n",
        "    # Generate population density (people per square mile)\n",
        "    population_density = np.random.randint(500, 20000, size=num_cities)\n",
        "\n",
        "    # Poverty rate (%) - Higher in densely populated cities\n",
        "    poverty_rate = np.clip(15 + (population_density / 2000) + np.random.normal(0, 5, num_cities), 5, 30)\n",
        "\n",
        "    # Police budget ($) - Correlated with population density\n",
        "    police_budget = (population_density * 50) + np.random.randint(500000, 2000000, size=num_cities)\n",
        "\n",
        "    # Unemployment rate (%) - Higher in cities with high poverty\n",
        "    unemployment_rate = np.clip(5 + (poverty_rate / 3) + np.random.normal(0, 2, num_cities), 3, 15)\n",
        "\n",
        "    # Housing quality index (1 to 10) - Inversely related to poverty rate\n",
        "    housing_quality_index = np.clip(10 - (poverty_rate / 5) + np.random.normal(0, 1, num_cities), 1, 10)\n",
        "\n",
        "    # Traffic violation rate (per 1000 people) - Higher in densely populated areas\n",
        "    traffic_violation_rate = np.clip(100 + (population_density / 100) + np.random.normal(0, 30, num_cities), 50, 500)\n",
        "\n",
        "    # Drug abuse rate (%) - Higher in cities with low housing quality\n",
        "    drug_abuse_rate = np.clip(10 + (20 - housing_quality_index) + np.random.normal(0, 5, num_cities), 5, 40)\n",
        "\n",
        "    # Mental health services availability (1 to 10) - Better in cities with higher police budgets\n",
        "    mental_health_services = np.clip(5 + (police_budget / 200000) + np.random.normal(0, 2, num_cities), 1, 10)\n",
        "\n",
        "    # Gun ownership rate (%) - Randomly distributed but generally higher in cities with lower population density\n",
        "    gun_ownership_rate = np.clip(20 + (15000 / (population_density + 1)) + np.random.normal(0, 10, num_cities), 20, 60)\n",
        "\n",
        "    # Crime rate (per 1000 people) - Correlated with poverty, unemployment, and drug abuse\n",
        "    crime_rate = np.clip(20 + (poverty_rate * 0.8) + (unemployment_rate * 1.2) +\n",
        "                         (drug_abuse_rate * 0.5) - (mental_health_services * 2) +\n",
        "                         np.random.normal(0, 10, num_cities), 10, 100)\n",
        "\n",
        "    # Introduce occasional null values randomly\n",
        "    for col in ['poverty_rate', 'housing_quality_index', 'traffic_violation_rate']:\n",
        "        null_indices = np.random.choice(num_cities, size=int(0.1 * num_cities), replace=False)\n",
        "        locals()[col][null_indices] = np.nan\n",
        "\n",
        "    # Create DataFrame\n",
        "    data = pd.DataFrame({\n",
        "        'city_name': cities,\n",
        "        'population_density': population_density,\n",
        "        'poverty_rate': poverty_rate,\n",
        "        'police_budget': police_budget,\n",
        "        'unemployment_rate': unemployment_rate,\n",
        "        'housing_quality_index': housing_quality_index,\n",
        "        'traffic_violation_rate': traffic_violation_rate,\n",
        "        'drug_abuse_rate': drug_abuse_rate,\n",
        "        'mental_health_services': mental_health_services,\n",
        "        'gun_ownership_rate': gun_ownership_rate,\n",
        "        'crime_rate': crime_rate\n",
        "    })\n",
        "\n",
        "    return data\n",
        "\n",
        "# Generate and display the synthetic data\n",
        "crime_data = generate_city_crime_data()"
      ],
      "metadata": {
        "id": "bDiOC3cjeB7I"
      },
      "execution_count": 3,
      "outputs": []
    },
    {
      "cell_type": "markdown",
      "source": [
        "# Task 1: Data Preprocessing & Feature Engineering"
      ],
      "metadata": {
        "id": "VxJXpRa8eN_J"
      }
    },
    {
      "cell_type": "markdown",
      "source": [
        "Preview top 10 rows of data"
      ],
      "metadata": {
        "id": "7XGPYorEfD12"
      }
    },
    {
      "cell_type": "code",
      "source": [
        "crime_data.head(5)"
      ],
      "metadata": {
        "colab": {
          "base_uri": "https://localhost:8080/",
          "height": 206
        },
        "id": "dRDrFfi3eySJ",
        "outputId": "cc5c8f57-5f46-4d88-aa5f-f5812355f1f0"
      },
      "execution_count": 4,
      "outputs": [
        {
          "output_type": "execute_result",
          "data": {
            "text/plain": [
              "  city_name  population_density  poverty_rate  police_budget  \\\n",
              "0     City1               16295     27.321477        1317619   \n",
              "1     City2                1360     17.162807        1349474   \n",
              "2     City3                5890     12.755851        1248851   \n",
              "3     City4               12464     20.852981        2484028   \n",
              "4     City5               11784     25.756818        1725784   \n",
              "\n",
              "   unemployment_rate  housing_quality_index  traffic_violation_rate  \\\n",
              "0          10.986045                    NaN              301.213897   \n",
              "1          14.721632               8.710644              110.853018   \n",
              "2           6.851687               7.106241              187.012176   \n",
              "3          14.353755               6.078718              207.560216   \n",
              "4          13.885273               5.173155              230.251384   \n",
              "\n",
              "   drug_abuse_rate  mental_health_services  gun_ownership_rate  crime_rate  \n",
              "0        21.255302               10.000000           30.417632   66.092051  \n",
              "1        14.995146                8.745041           27.411433   46.255446  \n",
              "2        28.837764               10.000000           20.000000   34.298549  \n",
              "3        23.714740               10.000000           23.778102   62.900000  \n",
              "4        25.696677               10.000000           24.117530   60.217491  "
            ],
            "text/html": [
              "\n",
              "  <div id=\"df-1b751834-eb1f-46e8-912e-1e1a285cdb6b\" class=\"colab-df-container\">\n",
              "    <div>\n",
              "<style scoped>\n",
              "    .dataframe tbody tr th:only-of-type {\n",
              "        vertical-align: middle;\n",
              "    }\n",
              "\n",
              "    .dataframe tbody tr th {\n",
              "        vertical-align: top;\n",
              "    }\n",
              "\n",
              "    .dataframe thead th {\n",
              "        text-align: right;\n",
              "    }\n",
              "</style>\n",
              "<table border=\"1\" class=\"dataframe\">\n",
              "  <thead>\n",
              "    <tr style=\"text-align: right;\">\n",
              "      <th></th>\n",
              "      <th>city_name</th>\n",
              "      <th>population_density</th>\n",
              "      <th>poverty_rate</th>\n",
              "      <th>police_budget</th>\n",
              "      <th>unemployment_rate</th>\n",
              "      <th>housing_quality_index</th>\n",
              "      <th>traffic_violation_rate</th>\n",
              "      <th>drug_abuse_rate</th>\n",
              "      <th>mental_health_services</th>\n",
              "      <th>gun_ownership_rate</th>\n",
              "      <th>crime_rate</th>\n",
              "    </tr>\n",
              "  </thead>\n",
              "  <tbody>\n",
              "    <tr>\n",
              "      <th>0</th>\n",
              "      <td>City1</td>\n",
              "      <td>16295</td>\n",
              "      <td>27.321477</td>\n",
              "      <td>1317619</td>\n",
              "      <td>10.986045</td>\n",
              "      <td>NaN</td>\n",
              "      <td>301.213897</td>\n",
              "      <td>21.255302</td>\n",
              "      <td>10.000000</td>\n",
              "      <td>30.417632</td>\n",
              "      <td>66.092051</td>\n",
              "    </tr>\n",
              "    <tr>\n",
              "      <th>1</th>\n",
              "      <td>City2</td>\n",
              "      <td>1360</td>\n",
              "      <td>17.162807</td>\n",
              "      <td>1349474</td>\n",
              "      <td>14.721632</td>\n",
              "      <td>8.710644</td>\n",
              "      <td>110.853018</td>\n",
              "      <td>14.995146</td>\n",
              "      <td>8.745041</td>\n",
              "      <td>27.411433</td>\n",
              "      <td>46.255446</td>\n",
              "    </tr>\n",
              "    <tr>\n",
              "      <th>2</th>\n",
              "      <td>City3</td>\n",
              "      <td>5890</td>\n",
              "      <td>12.755851</td>\n",
              "      <td>1248851</td>\n",
              "      <td>6.851687</td>\n",
              "      <td>7.106241</td>\n",
              "      <td>187.012176</td>\n",
              "      <td>28.837764</td>\n",
              "      <td>10.000000</td>\n",
              "      <td>20.000000</td>\n",
              "      <td>34.298549</td>\n",
              "    </tr>\n",
              "    <tr>\n",
              "      <th>3</th>\n",
              "      <td>City4</td>\n",
              "      <td>12464</td>\n",
              "      <td>20.852981</td>\n",
              "      <td>2484028</td>\n",
              "      <td>14.353755</td>\n",
              "      <td>6.078718</td>\n",
              "      <td>207.560216</td>\n",
              "      <td>23.714740</td>\n",
              "      <td>10.000000</td>\n",
              "      <td>23.778102</td>\n",
              "      <td>62.900000</td>\n",
              "    </tr>\n",
              "    <tr>\n",
              "      <th>4</th>\n",
              "      <td>City5</td>\n",
              "      <td>11784</td>\n",
              "      <td>25.756818</td>\n",
              "      <td>1725784</td>\n",
              "      <td>13.885273</td>\n",
              "      <td>5.173155</td>\n",
              "      <td>230.251384</td>\n",
              "      <td>25.696677</td>\n",
              "      <td>10.000000</td>\n",
              "      <td>24.117530</td>\n",
              "      <td>60.217491</td>\n",
              "    </tr>\n",
              "  </tbody>\n",
              "</table>\n",
              "</div>\n",
              "    <div class=\"colab-df-buttons\">\n",
              "\n",
              "  <div class=\"colab-df-container\">\n",
              "    <button class=\"colab-df-convert\" onclick=\"convertToInteractive('df-1b751834-eb1f-46e8-912e-1e1a285cdb6b')\"\n",
              "            title=\"Convert this dataframe to an interactive table.\"\n",
              "            style=\"display:none;\">\n",
              "\n",
              "  <svg xmlns=\"http://www.w3.org/2000/svg\" height=\"24px\" viewBox=\"0 -960 960 960\">\n",
              "    <path d=\"M120-120v-720h720v720H120Zm60-500h600v-160H180v160Zm220 220h160v-160H400v160Zm0 220h160v-160H400v160ZM180-400h160v-160H180v160Zm440 0h160v-160H620v160ZM180-180h160v-160H180v160Zm440 0h160v-160H620v160Z\"/>\n",
              "  </svg>\n",
              "    </button>\n",
              "\n",
              "  <style>\n",
              "    .colab-df-container {\n",
              "      display:flex;\n",
              "      gap: 12px;\n",
              "    }\n",
              "\n",
              "    .colab-df-convert {\n",
              "      background-color: #E8F0FE;\n",
              "      border: none;\n",
              "      border-radius: 50%;\n",
              "      cursor: pointer;\n",
              "      display: none;\n",
              "      fill: #1967D2;\n",
              "      height: 32px;\n",
              "      padding: 0 0 0 0;\n",
              "      width: 32px;\n",
              "    }\n",
              "\n",
              "    .colab-df-convert:hover {\n",
              "      background-color: #E2EBFA;\n",
              "      box-shadow: 0px 1px 2px rgba(60, 64, 67, 0.3), 0px 1px 3px 1px rgba(60, 64, 67, 0.15);\n",
              "      fill: #174EA6;\n",
              "    }\n",
              "\n",
              "    .colab-df-buttons div {\n",
              "      margin-bottom: 4px;\n",
              "    }\n",
              "\n",
              "    [theme=dark] .colab-df-convert {\n",
              "      background-color: #3B4455;\n",
              "      fill: #D2E3FC;\n",
              "    }\n",
              "\n",
              "    [theme=dark] .colab-df-convert:hover {\n",
              "      background-color: #434B5C;\n",
              "      box-shadow: 0px 1px 3px 1px rgba(0, 0, 0, 0.15);\n",
              "      filter: drop-shadow(0px 1px 2px rgba(0, 0, 0, 0.3));\n",
              "      fill: #FFFFFF;\n",
              "    }\n",
              "  </style>\n",
              "\n",
              "    <script>\n",
              "      const buttonEl =\n",
              "        document.querySelector('#df-1b751834-eb1f-46e8-912e-1e1a285cdb6b button.colab-df-convert');\n",
              "      buttonEl.style.display =\n",
              "        google.colab.kernel.accessAllowed ? 'block' : 'none';\n",
              "\n",
              "      async function convertToInteractive(key) {\n",
              "        const element = document.querySelector('#df-1b751834-eb1f-46e8-912e-1e1a285cdb6b');\n",
              "        const dataTable =\n",
              "          await google.colab.kernel.invokeFunction('convertToInteractive',\n",
              "                                                    [key], {});\n",
              "        if (!dataTable) return;\n",
              "\n",
              "        const docLinkHtml = 'Like what you see? Visit the ' +\n",
              "          '<a target=\"_blank\" href=https://colab.research.google.com/notebooks/data_table.ipynb>data table notebook</a>'\n",
              "          + ' to learn more about interactive tables.';\n",
              "        element.innerHTML = '';\n",
              "        dataTable['output_type'] = 'display_data';\n",
              "        await google.colab.output.renderOutput(dataTable, element);\n",
              "        const docLink = document.createElement('div');\n",
              "        docLink.innerHTML = docLinkHtml;\n",
              "        element.appendChild(docLink);\n",
              "      }\n",
              "    </script>\n",
              "  </div>\n",
              "\n",
              "\n",
              "<div id=\"df-91401838-d7c5-4a32-a3b5-0ab3b1fe3309\">\n",
              "  <button class=\"colab-df-quickchart\" onclick=\"quickchart('df-91401838-d7c5-4a32-a3b5-0ab3b1fe3309')\"\n",
              "            title=\"Suggest charts\"\n",
              "            style=\"display:none;\">\n",
              "\n",
              "<svg xmlns=\"http://www.w3.org/2000/svg\" height=\"24px\"viewBox=\"0 0 24 24\"\n",
              "     width=\"24px\">\n",
              "    <g>\n",
              "        <path d=\"M19 3H5c-1.1 0-2 .9-2 2v14c0 1.1.9 2 2 2h14c1.1 0 2-.9 2-2V5c0-1.1-.9-2-2-2zM9 17H7v-7h2v7zm4 0h-2V7h2v10zm4 0h-2v-4h2v4z\"/>\n",
              "    </g>\n",
              "</svg>\n",
              "  </button>\n",
              "\n",
              "<style>\n",
              "  .colab-df-quickchart {\n",
              "      --bg-color: #E8F0FE;\n",
              "      --fill-color: #1967D2;\n",
              "      --hover-bg-color: #E2EBFA;\n",
              "      --hover-fill-color: #174EA6;\n",
              "      --disabled-fill-color: #AAA;\n",
              "      --disabled-bg-color: #DDD;\n",
              "  }\n",
              "\n",
              "  [theme=dark] .colab-df-quickchart {\n",
              "      --bg-color: #3B4455;\n",
              "      --fill-color: #D2E3FC;\n",
              "      --hover-bg-color: #434B5C;\n",
              "      --hover-fill-color: #FFFFFF;\n",
              "      --disabled-bg-color: #3B4455;\n",
              "      --disabled-fill-color: #666;\n",
              "  }\n",
              "\n",
              "  .colab-df-quickchart {\n",
              "    background-color: var(--bg-color);\n",
              "    border: none;\n",
              "    border-radius: 50%;\n",
              "    cursor: pointer;\n",
              "    display: none;\n",
              "    fill: var(--fill-color);\n",
              "    height: 32px;\n",
              "    padding: 0;\n",
              "    width: 32px;\n",
              "  }\n",
              "\n",
              "  .colab-df-quickchart:hover {\n",
              "    background-color: var(--hover-bg-color);\n",
              "    box-shadow: 0 1px 2px rgba(60, 64, 67, 0.3), 0 1px 3px 1px rgba(60, 64, 67, 0.15);\n",
              "    fill: var(--button-hover-fill-color);\n",
              "  }\n",
              "\n",
              "  .colab-df-quickchart-complete:disabled,\n",
              "  .colab-df-quickchart-complete:disabled:hover {\n",
              "    background-color: var(--disabled-bg-color);\n",
              "    fill: var(--disabled-fill-color);\n",
              "    box-shadow: none;\n",
              "  }\n",
              "\n",
              "  .colab-df-spinner {\n",
              "    border: 2px solid var(--fill-color);\n",
              "    border-color: transparent;\n",
              "    border-bottom-color: var(--fill-color);\n",
              "    animation:\n",
              "      spin 1s steps(1) infinite;\n",
              "  }\n",
              "\n",
              "  @keyframes spin {\n",
              "    0% {\n",
              "      border-color: transparent;\n",
              "      border-bottom-color: var(--fill-color);\n",
              "      border-left-color: var(--fill-color);\n",
              "    }\n",
              "    20% {\n",
              "      border-color: transparent;\n",
              "      border-left-color: var(--fill-color);\n",
              "      border-top-color: var(--fill-color);\n",
              "    }\n",
              "    30% {\n",
              "      border-color: transparent;\n",
              "      border-left-color: var(--fill-color);\n",
              "      border-top-color: var(--fill-color);\n",
              "      border-right-color: var(--fill-color);\n",
              "    }\n",
              "    40% {\n",
              "      border-color: transparent;\n",
              "      border-right-color: var(--fill-color);\n",
              "      border-top-color: var(--fill-color);\n",
              "    }\n",
              "    60% {\n",
              "      border-color: transparent;\n",
              "      border-right-color: var(--fill-color);\n",
              "    }\n",
              "    80% {\n",
              "      border-color: transparent;\n",
              "      border-right-color: var(--fill-color);\n",
              "      border-bottom-color: var(--fill-color);\n",
              "    }\n",
              "    90% {\n",
              "      border-color: transparent;\n",
              "      border-bottom-color: var(--fill-color);\n",
              "    }\n",
              "  }\n",
              "</style>\n",
              "\n",
              "  <script>\n",
              "    async function quickchart(key) {\n",
              "      const quickchartButtonEl =\n",
              "        document.querySelector('#' + key + ' button');\n",
              "      quickchartButtonEl.disabled = true;  // To prevent multiple clicks.\n",
              "      quickchartButtonEl.classList.add('colab-df-spinner');\n",
              "      try {\n",
              "        const charts = await google.colab.kernel.invokeFunction(\n",
              "            'suggestCharts', [key], {});\n",
              "      } catch (error) {\n",
              "        console.error('Error during call to suggestCharts:', error);\n",
              "      }\n",
              "      quickchartButtonEl.classList.remove('colab-df-spinner');\n",
              "      quickchartButtonEl.classList.add('colab-df-quickchart-complete');\n",
              "    }\n",
              "    (() => {\n",
              "      let quickchartButtonEl =\n",
              "        document.querySelector('#df-91401838-d7c5-4a32-a3b5-0ab3b1fe3309 button');\n",
              "      quickchartButtonEl.style.display =\n",
              "        google.colab.kernel.accessAllowed ? 'block' : 'none';\n",
              "    })();\n",
              "  </script>\n",
              "</div>\n",
              "\n",
              "    </div>\n",
              "  </div>\n"
            ],
            "application/vnd.google.colaboratory.intrinsic+json": {
              "type": "dataframe",
              "variable_name": "crime_data",
              "summary": "{\n  \"name\": \"crime_data\",\n  \"rows\": 100,\n  \"fields\": [\n    {\n      \"column\": \"city_name\",\n      \"properties\": {\n        \"dtype\": \"string\",\n        \"num_unique_values\": 100,\n        \"samples\": [\n          \"City84\",\n          \"City54\",\n          \"City71\"\n        ],\n        \"semantic_type\": \"\",\n        \"description\": \"\"\n      }\n    },\n    {\n      \"column\": \"population_density\",\n      \"properties\": {\n        \"dtype\": \"number\",\n        \"std\": 5700,\n        \"min\": 661,\n        \"max\": 19988,\n        \"num_unique_values\": 100,\n        \"samples\": [\n          5758,\n          12153,\n          12685\n        ],\n        \"semantic_type\": \"\",\n        \"description\": \"\"\n      }\n    },\n    {\n      \"column\": \"poverty_rate\",\n      \"properties\": {\n        \"dtype\": \"number\",\n        \"std\": 5.171749642628908,\n        \"min\": 8.998747707042988,\n        \"max\": 30.0,\n        \"num_unique_values\": 85,\n        \"samples\": [\n          16.001166414522476,\n          27.321477096152144,\n          18.784545343693615\n        ],\n        \"semantic_type\": \"\",\n        \"description\": \"\"\n      }\n    },\n    {\n      \"column\": \"police_budget\",\n      \"properties\": {\n        \"dtype\": \"number\",\n        \"std\": 563862,\n        \"min\": 691841,\n        \"max\": 2920785,\n        \"num_unique_values\": 100,\n        \"samples\": [\n          1986738,\n          1173376,\n          2456063\n        ],\n        \"semantic_type\": \"\",\n        \"description\": \"\"\n      }\n    },\n    {\n      \"column\": \"unemployment_rate\",\n      \"properties\": {\n        \"dtype\": \"number\",\n        \"std\": 2.7818189729380847,\n        \"min\": 3.8007446289802145,\n        \"max\": 15.0,\n        \"num_unique_values\": 90,\n        \"samples\": [\n          12.417441974098548,\n          11.785219626678517,\n          8.899922060984226\n        ],\n        \"semantic_type\": \"\",\n        \"description\": \"\"\n      }\n    },\n    {\n      \"column\": \"housing_quality_index\",\n      \"properties\": {\n        \"dtype\": \"number\",\n        \"std\": 1.4377915603099833,\n        \"min\": 3.1346568259517635,\n        \"max\": 9.45678844596403,\n        \"num_unique_values\": 90,\n        \"samples\": [\n          7.792084198134762,\n          8.152235244766183,\n          4.128639457258943\n        ],\n        \"semantic_type\": \"\",\n        \"description\": \"\"\n      }\n    },\n    {\n      \"column\": \"traffic_violation_rate\",\n      \"properties\": {\n        \"dtype\": \"number\",\n        \"std\": 65.83314552920828,\n        \"min\": 78.6535249204071,\n        \"max\": 341.55710488555826,\n        \"num_unique_values\": 90,\n        \"samples\": [\n          133.40144119689157,\n          318.36885453882036,\n          141.94262561350055\n        ],\n        \"semantic_type\": \"\",\n        \"description\": \"\"\n      }\n    },\n    {\n      \"column\": \"drug_abuse_rate\",\n      \"properties\": {\n        \"dtype\": \"number\",\n        \"std\": 5.640213531032703,\n        \"min\": 11.206452422190424,\n        \"max\": 40.0,\n        \"num_unique_values\": 100,\n        \"samples\": [\n          13.633724486343223,\n          34.19306584182172,\n          32.81954428576127\n        ],\n        \"semantic_type\": \"\",\n        \"description\": \"\"\n      }\n    },\n    {\n      \"column\": \"mental_health_services\",\n      \"properties\": {\n        \"dtype\": \"number\",\n        \"std\": 0.6810046519508427,\n        \"min\": 6.732863710435799,\n        \"max\": 10.0,\n        \"num_unique_values\": 20,\n        \"samples\": [\n          10.0,\n          9.351671677963388,\n          7.732598561102877\n        ],\n        \"semantic_type\": \"\",\n        \"description\": \"\"\n      }\n    },\n    {\n      \"column\": \"gun_ownership_rate\",\n      \"properties\": {\n        \"dtype\": \"number\",\n        \"std\": 8.906381316561642,\n        \"min\": 20.0,\n        \"max\": 59.84863309810204,\n        \"num_unique_values\": 67,\n        \"samples\": [\n          44.218850210239566,\n          21.55393846377433,\n          24.117530304084035\n        ],\n        \"semantic_type\": \"\",\n        \"description\": \"\"\n      }\n    },\n    {\n      \"column\": \"crime_rate\",\n      \"properties\": {\n        \"dtype\": \"number\",\n        \"std\": 12.945438928829208,\n        \"min\": 11.565548458638329,\n        \"max\": 73.96548483056054,\n        \"num_unique_values\": 100,\n        \"samples\": [\n          48.80152294022622,\n          30.336460846629457,\n          51.97436568493426\n        ],\n        \"semantic_type\": \"\",\n        \"description\": \"\"\n      }\n    }\n  ]\n}"
            }
          },
          "metadata": {},
          "execution_count": 4
        }
      ]
    },
    {
      "cell_type": "markdown",
      "source": [
        "Find out missing or null values in columns"
      ],
      "metadata": {
        "id": "QyErAqqwgULg"
      }
    },
    {
      "cell_type": "code",
      "source": [
        "\n",
        "missing_columns = crime_data.columns[crime_data.isnull().any()].tolist()\n",
        "\n",
        "print(missing_columns)"
      ],
      "metadata": {
        "colab": {
          "base_uri": "https://localhost:8080/"
        },
        "id": "Wbn4hzD6gL4j",
        "outputId": "8a83ac6e-4da2-4bb7-af40-0d71fcad2813"
      },
      "execution_count": null,
      "outputs": [
        {
          "output_type": "stream",
          "name": "stdout",
          "text": [
            "['poverty_rate', 'housing_quality_index', 'traffic_violation_rate']\n"
          ]
        }
      ]
    },
    {
      "cell_type": "markdown",
      "source": [
        "**Handle Missing Data**"
      ],
      "metadata": {
        "id": "CFbRSm65frqn"
      }
    },
    {
      "cell_type": "code",
      "source": [
        "# Impute missing values for numerical features with the median\n",
        "crime_data['housing_quality_index'] = crime_data['housing_quality_index'].fillna(crime_data['housing_quality_index'].median())\n",
        "crime_data['traffic_violation_rate'] = crime_data['traffic_violation_rate'].fillna(crime_data['traffic_violation_rate'].median())\n",
        "crime_data['poverty_rate'] = crime_data['poverty_rate'].fillna(crime_data['poverty_rate'].median())\n",
        "\n",
        "# Check if there are any remaining missing values\n",
        "print(\"\\nAfter imputing missing values:\")\n",
        "print(crime_data.info())\n"
      ],
      "metadata": {
        "id": "67WAtlfTf9O8",
        "outputId": "47b3bfe3-93c5-4dc8-8135-0277b2a473d2",
        "colab": {
          "base_uri": "https://localhost:8080/"
        }
      },
      "execution_count": 10,
      "outputs": [
        {
          "output_type": "stream",
          "name": "stdout",
          "text": [
            "\n",
            "After imputing missing values:\n",
            "<class 'pandas.core.frame.DataFrame'>\n",
            "RangeIndex: 100 entries, 0 to 99\n",
            "Data columns (total 16 columns):\n",
            " #   Column                         Non-Null Count  Dtype  \n",
            "---  ------                         --------------  -----  \n",
            " 0   city_name                      100 non-null    object \n",
            " 1   population_density             100 non-null    int64  \n",
            " 2   poverty_rate                   100 non-null    float64\n",
            " 3   police_budget                  100 non-null    int64  \n",
            " 4   unemployment_rate              100 non-null    float64\n",
            " 5   housing_quality_index          100 non-null    float64\n",
            " 6   traffic_violation_rate         100 non-null    float64\n",
            " 7   drug_abuse_rate                100 non-null    float64\n",
            " 8   mental_health_services         100 non-null    float64\n",
            " 9   gun_ownership_rate             100 non-null    float64\n",
            " 10  crime_rate                     100 non-null    float64\n",
            " 11  estimated_income               100 non-null    float64\n",
            " 12  income_to_police_budget_ratio  100 non-null    float64\n",
            " 13  unemployment_population_ratio  100 non-null    float64\n",
            " 14  crime_rate_per_sq_mile         100 non-null    float64\n",
            " 15  police_officer_per_sq_mile     100 non-null    float64\n",
            "dtypes: float64(13), int64(2), object(1)\n",
            "memory usage: 12.6+ KB\n",
            "None\n"
          ]
        }
      ]
    },
    {
      "cell_type": "markdown",
      "source": [
        "**Convert Percentage Strings to Numeric Values**"
      ],
      "metadata": {
        "id": "hcyRcTt26KgE"
      }
    },
    {
      "cell_type": "code",
      "source": [
        "percent_columns = ['poverty_rate', 'unemployment_rate', 'drug_abuse_rate', 'gun_ownership_rate']\n",
        "\n",
        "for col in percent_columns:\n",
        "    # Remove the '%' symbol and convert to float\n",
        "    crime_data[col] = crime_data[col].astype(str).str.replace('%', '').astype(float)\n",
        "\n",
        "# Display the converted columns to confirm\n",
        "print(\"\\nAfter converting percentages to numeric values:\")\n",
        "print(crime_data[percent_columns].head())\n"
      ],
      "metadata": {
        "id": "mUD5UrpK6Jfg",
        "outputId": "3e272c8b-22e3-4871-cc19-7cee72c7c51c",
        "colab": {
          "base_uri": "https://localhost:8080/"
        }
      },
      "execution_count": 11,
      "outputs": [
        {
          "output_type": "stream",
          "name": "stdout",
          "text": [
            "\n",
            "After converting percentages to numeric values:\n",
            "   poverty_rate  unemployment_rate  drug_abuse_rate  gun_ownership_rate\n",
            "0     27.321477          10.986045        21.255302           30.417632\n",
            "1     17.162807          14.721632        15.693973           27.411433\n",
            "2     12.755851           6.851687        28.837764           20.000000\n",
            "3     20.852981          14.353755        23.714740           23.778102\n",
            "4     25.756818          13.885273        25.696677           24.117530\n"
          ]
        }
      ]
    },
    {
      "cell_type": "markdown",
      "source": [
        "**Feature Engineering**\n"
      ],
      "metadata": {
        "id": "_44OeCQR6exH"
      }
    },
    {
      "cell_type": "markdown",
      "source": [
        "a) Socioeconomic Ratios"
      ],
      "metadata": {
        "id": "pVDwsO5O8TOE"
      }
    },
    {
      "cell_type": "code",
      "source": [
        "# Estimate average income based on poverty_rate and housing_quality_index\n",
        "# Note: This estimation is arbitrary for illustration; use your own formula as needed\n",
        "average_income_estimate = 50000 * (1 - (crime_data['poverty_rate'] / 100))\n",
        "crime_data['income_to_police_budget_ratio'] = average_income_estimate / crime_data['police_budget']\n",
        "\n",
        "# Calculate unemployment_population_ratio\n",
        "crime_data['unemployment_population_ratio'] = crime_data['unemployment_rate'] / crime_data['population_density']\n",
        "\n",
        "# Display new socioeconomic ratios to confirm\n",
        "print(\"\\nSocioeconomic Ratios:\")\n",
        "print(crime_data[['income_to_police_budget_ratio', 'unemployment_population_ratio']].head())\n"
      ],
      "metadata": {
        "id": "dQfkxwEC6htr",
        "outputId": "f7888654-1961-41d9-a9dd-a85e68d755a5",
        "colab": {
          "base_uri": "https://localhost:8080/"
        }
      },
      "execution_count": 12,
      "outputs": [
        {
          "output_type": "stream",
          "name": "stdout",
          "text": [
            "\n",
            "Socioeconomic Ratios:\n",
            "   income_to_police_budget_ratio  unemployment_population_ratio\n",
            "0                       0.027579                       0.000674\n",
            "1                       0.030692                       0.010825\n",
            "2                       0.034930                       0.001163\n",
            "3                       0.015931                       0.001152\n",
            "4                       0.021510                       0.001178\n"
          ]
        }
      ]
    },
    {
      "cell_type": "markdown",
      "source": [
        "b) Spatial Density Features"
      ],
      "metadata": {
        "id": "DwsgXbb-8VkM"
      }
    },
    {
      "cell_type": "code",
      "source": [
        "# Assuming an estimated city area (e.g., 50 square miles for all cities here as an example)\n",
        "city_area = 50\n",
        "\n",
        "# Calculate crime rate per square mile\n",
        "crime_data['crime_rate_per_sq_mile'] = crime_data['crime_rate'] / city_area\n",
        "\n",
        "# Estimate number of police officers and calculate police officers per square mile\n",
        "# Assuming an average cost per officer of $100,000\n",
        "average_cost_per_officer = 100000\n",
        "crime_data['police_officer_per_sq_mile'] = (crime_data['police_budget'] / average_cost_per_officer) / city_area\n",
        "\n",
        "# Display spatial density features to confirm\n",
        "print(\"\\nSpatial Density Features:\")\n",
        "print(crime_data[['crime_rate_per_sq_mile', 'police_officer_per_sq_mile']].head())"
      ],
      "metadata": {
        "id": "NDqZhyMm8bFI",
        "outputId": "dd31c87f-4508-4553-f873-ec645ad51c27",
        "colab": {
          "base_uri": "https://localhost:8080/"
        }
      },
      "execution_count": 13,
      "outputs": [
        {
          "output_type": "stream",
          "name": "stdout",
          "text": [
            "\n",
            "Spatial Density Features:\n",
            "   crime_rate_per_sq_mile  police_officer_per_sq_mile\n",
            "0                1.205348                    0.263524\n",
            "1                0.925109                    0.269895\n",
            "2                0.685971                    0.249770\n",
            "3                1.205348                    0.496806\n",
            "4                1.204350                    0.345157\n"
          ]
        }
      ]
    },
    {
      "cell_type": "markdown",
      "source": [
        "**Outlier Detection and Handling**"
      ],
      "metadata": {
        "id": "mH6mFRuf6mKh"
      }
    },
    {
      "cell_type": "code",
      "source": [
        "# Outlier Detection and Handling using IQR\n",
        "\n",
        "# Define a function to cap outliers based on IQR\n",
        "def cap_outliers(df, column):\n",
        "    # Calculate Q1 (25th percentile) and Q3 (75th percentile)\n",
        "    Q1 = df[column].quantile(0.25)\n",
        "    Q3 = df[column].quantile(0.75)\n",
        "    IQR = Q3 - Q1  # Calculate IQR\n",
        "    # Define the bounds for detecting outliers\n",
        "    lower_bound = Q1 - 1.5 * IQR\n",
        "    upper_bound = Q3 + 1.5 * IQR\n",
        "    # Cap values outside the bounds\n",
        "    df[column] = np.where(df[column] < lower_bound, lower_bound,\n",
        "                          np.where(df[column] > upper_bound, upper_bound, df[column]))\n",
        "\n",
        "# Columns to check for outliers\n",
        "outlier_columns = ['housing_quality_index', 'drug_abuse_rate', 'crime_rate']\n",
        "\n",
        "# Apply outlier capping to each specified column\n",
        "for col in outlier_columns:\n",
        "    cap_outliers(crime_data, col)\n",
        "\n",
        "# Display the result after capping to verify\n",
        "print(\"\\nAfter handling outliers:\")\n",
        "print(crime_data[outlier_columns].describe())\n",
        "\n",
        "\n",
        "\n"
      ],
      "metadata": {
        "id": "hRjL92Yv6yhf",
        "outputId": "8614ef51-e1c5-408a-8a6b-f66c4a61662d",
        "colab": {
          "base_uri": "https://localhost:8080/"
        }
      },
      "execution_count": 17,
      "outputs": [
        {
          "output_type": "stream",
          "name": "stdout",
          "text": [
            "\n",
            "After handling outliers:\n",
            "       housing_quality_index  drug_abuse_rate  crime_rate\n",
            "count             100.000000       100.000000  100.000000\n",
            "mean                6.333993        24.905221   42.581484\n",
            "std                 1.776006         5.212954   11.259347\n",
            "min                 3.808572        15.693973   22.804727\n",
            "25%                 5.207443        20.467628   35.215670\n",
            "50%                 5.915373        25.552127   42.887745\n",
            "75%                 7.246405        27.986140   51.755302\n",
            "max                10.304847        34.389339   60.267405\n"
          ]
        }
      ]
    },
    {
      "cell_type": "markdown",
      "source": [
        "**Assemble Features**"
      ],
      "metadata": {
        "id": "5kXGHN7r-m3C"
      }
    },
    {
      "cell_type": "code",
      "source": [
        "from pyspark.sql import SparkSession\n",
        "from pyspark.ml.feature import VectorAssembler\n",
        "from pyspark.sql.functions import col\n",
        "\n",
        "# Initialize Spark session\n",
        "spark = SparkSession.builder.master(\"local[1]\").appName(\"Feature Engineering\").getOrCreate()\n",
        "\n",
        "# Convert the pandas DataFrame to a PySpark DataFrame\n",
        "crime_data_spark = spark.createDataFrame(crime_data)\n",
        "\n",
        "# List of columns to include in the feature vector\n",
        "feature_columns = [\n",
        "    'population_density', 'poverty_rate', 'police_budget', 'unemployment_rate',\n",
        "    'housing_quality_index', 'traffic_violation_rate', 'drug_abuse_rate',\n",
        "    'mental_health_services', 'gun_ownership_rate', 'crime_rate',\n",
        "    'income_to_police_budget_ratio', 'unemployment_population_ratio', 'crime_rate_per_sq_mile',\n",
        "    'police_officer_per_sq_mile'\n",
        "]\n",
        "\n",
        "# Assemble the feature vector\n",
        "assembler = VectorAssembler(inputCols=feature_columns, outputCol=\"features\")\n",
        "\n",
        "# Apply the transformation\n",
        "crime_data_spark = assembler.transform(crime_data_spark)\n",
        "\n",
        "# Show a few rows of the transformed DataFrame\n",
        "crime_data_spark.select('city_name', 'features').show(5, truncate=False)\n"
      ],
      "metadata": {
        "id": "9Q2BeCn6-thW",
        "outputId": "71216c22-b664-43ca-ede4-37ced54c68e8",
        "colab": {
          "base_uri": "https://localhost:8080/"
        }
      },
      "execution_count": 18,
      "outputs": [
        {
          "output_type": "stream",
          "name": "stdout",
          "text": [
            "+---------+---------------------------------------------------------------------------------------------------------------------------------------------------------------------------------------------------------------------------------------------+\n",
            "|city_name|features                                                                                                                                                                                                                                     |\n",
            "+---------+---------------------------------------------------------------------------------------------------------------------------------------------------------------------------------------------------------------------------------------------+\n",
            "|City1    |[16295.0,27.321477096152144,1317619.0,10.986044887176178,5.7821753394707995,301.2138974596086,21.255301596104538,10.0,30.4176320872554,60.26740478168022,0.027579491075890625,6.741972928613794E-4,1.2053480956336045,0.2635238]             |\n",
            "|City2    |[1360.0,17.162806921644854,1349474.0,14.72163181876049,8.180155672717119,110.85301818050488,15.693973399184145,8.745041103313827,27.411433069307293,46.25544555972376,0.030692400549530832,0.010824729278500362,0.9251089111944752,0.2698948]|\n",
            "|City3    |[5890.0,12.75585061742259,1248851.0,6.851686730347204,7.106241008284837,187.01217560945537,28.837764029976192,10.0,20.0,34.29854898275321,0.03492976719503664,0.0011632744873255015,0.6859709796550643,0.2497702]                            |\n",
            "|City4    |[12464.0,20.852981274859072,2484028.0,14.35375464672174,6.078718286650141,207.56021608353666,23.714739560445995,10.0,23.778101780242945,60.26740478168022,0.01593118489911163,0.0011516170287806274,1.2053480956336045,0.4968056]            |\n",
            "|City5    |[11784.0,25.756817668778936,1725784.0,13.885273322272173,10.304847406960707,230.25138399856223,25.696676863229083,10.0,24.117530304084035,60.217490545618745,0.0215099868613978,0.0011783157944901708,1.204349810912375,0.34515680000000004] |\n",
            "+---------+---------------------------------------------------------------------------------------------------------------------------------------------------------------------------------------------------------------------------------------------+\n",
            "only showing top 5 rows\n",
            "\n"
          ]
        }
      ]
    },
    {
      "cell_type": "markdown",
      "source": [
        "**Task 2: Train Baseline Model and Evaluate**"
      ],
      "metadata": {
        "id": "NbU1huFw_ls7"
      }
    },
    {
      "cell_type": "code",
      "source": [
        "from pyspark.ml.regression import LinearRegression\n",
        "from pyspark.ml.evaluation import RegressionEvaluator\n",
        "from pyspark.ml.tuning import CrossValidator, ParamGridBuilder\n",
        "from pyspark.ml.feature import VectorAssembler\n",
        "from pyspark.sql.functions import col\n",
        "\n",
        "# 1. Data Splitting (80% Training, 20% Testing)\n",
        "train_data, test_data = crime_data_spark.randomSplit([0.8, 0.2], seed=42)\n",
        "\n",
        "# 2. Train a Linear Regression Model\n",
        "lr = LinearRegression(featuresCol='features', labelCol='crime_rate')\n",
        "\n",
        "# Fit the model on the training data\n",
        "lr_model = lr.fit(train_data)\n",
        "\n",
        "# 3. Make Predictions on the Test Set\n",
        "test_predictions = lr_model.transform(test_data)\n",
        "\n",
        "# 4. Compute Evaluation Metrics\n",
        "\n",
        "# RMSE (Root Mean Squared Error)\n",
        "evaluator_rmse = RegressionEvaluator(predictionCol=\"prediction\", labelCol=\"crime_rate\", metricName=\"rmse\")\n",
        "rmse = evaluator_rmse.evaluate(test_predictions)\n",
        "\n",
        "# R-squared (R²)\n",
        "evaluator_r2 = RegressionEvaluator(predictionCol=\"prediction\", labelCol=\"crime_rate\", metricName=\"r2\")\n",
        "r2 = evaluator_r2.evaluate(test_predictions)\n",
        "\n",
        "# MAE (Mean Absolute Error)\n",
        "evaluator_mae = RegressionEvaluator(predictionCol=\"prediction\", labelCol=\"crime_rate\", metricName=\"mae\")\n",
        "mae = evaluator_mae.evaluate(test_predictions)\n",
        "\n",
        "# 5. Display Evaluation Metrics\n",
        "print(f\"Evaluation Metrics:\")\n",
        "print(f\"RMSE: {rmse:.2f}\")\n",
        "print(f\"R²: {r2:.2f}\")\n",
        "print(f\"MAE: {mae:.2f}\")\n",
        "\n"
      ],
      "metadata": {
        "id": "yQjMrSuE_qM9",
        "outputId": "91b35bc0-6761-4ee5-f6e6-64ee75ab8f89",
        "colab": {
          "base_uri": "https://localhost:8080/"
        }
      },
      "execution_count": 19,
      "outputs": [
        {
          "output_type": "stream",
          "name": "stdout",
          "text": [
            "Evaluation Metrics:\n",
            "RMSE: 0.00\n",
            "R²: 1.00\n",
            "MAE: 0.00\n"
          ]
        }
      ]
    },
    {
      "cell_type": "markdown",
      "source": [
        "**Task 3: Feature Selection and Interpretability**"
      ],
      "metadata": {
        "id": "xe2GilFx_8AP"
      }
    },
    {
      "cell_type": "markdown",
      "source": [
        "1. Train the Decision Tree Regressor and Calculate Feature Importance"
      ],
      "metadata": {
        "id": "QZa9fq8iAgmU"
      }
    },
    {
      "cell_type": "code",
      "source": [
        "from pyspark.ml.feature import StringIndexer\n",
        "from pyspark.ml.regression import DecisionTreeRegressor\n",
        "from pyspark.ml.feature import VectorAssembler\n",
        "from pyspark.ml import Pipeline\n",
        "\n",
        "# Step 1: Handle categorical columns (e.g., city_name)\n",
        "# Index categorical columns using StringIndexer (for example, 'city_name')\n",
        "indexer = StringIndexer(inputCol='city_name', outputCol='city_name_indexed')\n",
        "\n",
        "# Step 2: Assemble numeric features excluding the target 'crime_rate'\n",
        "assembler = VectorAssembler(inputCols=[col for col in crime_data_spark.columns if col not in ['crime_rate', 'city_name']],\n",
        "                            outputCol='features')\n",
        "\n",
        "# Step 3: Train a Decision Tree Regressor\n",
        "dt_regressor = DecisionTreeRegressor(featuresCol='features', labelCol='crime_rate')\n",
        "\n",
        "# Step 4: Create a pipeline with the indexer, assembler, and regressor\n",
        "pipeline = Pipeline(stages=[indexer, assembler, dt_regressor])\n",
        "\n",
        "# Step 5: Train the model (fit the pipeline)\n",
        "model = pipeline.fit(crime_data_spark)\n",
        "\n",
        "# Step 6: Extract the trained Decision Tree model\n",
        "dt_model = model.stages[-1]\n",
        "\n",
        "# Step 7: Get feature importances\n",
        "feature_importances = dt_model.featureImportances.toArray()\n",
        "\n",
        "# Step 8: Get the feature names (exclude 'crime_rate' and 'city_name')\n",
        "features_list = [col for col in crime_data_spark.columns if col not in ['crime_rate', 'city_name']]\n",
        "\n",
        "# Step 9: Create a DataFrame with feature names and their corresponding importance scores\n",
        "import pandas as pd\n",
        "\n",
        "feature_importance_df = pd.DataFrame({\n",
        "    'Feature': features_list,\n",
        "    'Importance': feature_importances\n",
        "})\n",
        "\n",
        "# Step 10: Sort the DataFrame by importance to get the top features\n",
        "feature_importance_df = feature_importance_df.sort_values(by='Importance', ascending=False)\n",
        "\n",
        "# Step 11: Display the top 5 most important features\n",
        "top_5_features = feature_importance_df.head(5)\n",
        "print(\"Top 5 Features from Decision Tree Regressor:\")\n",
        "print(top_5_features)\n"
      ],
      "metadata": {
        "id": "UfWpKab4AXlr",
        "outputId": "0f65cc39-e494-4f1a-f584-095dfee4ad33",
        "colab": {
          "base_uri": "https://localhost:8080/",
          "height": 356
        }
      },
      "execution_count": 23,
      "outputs": [
        {
          "output_type": "error",
          "ename": "IllegalArgumentException",
          "evalue": "Output column features already exists.",
          "traceback": [
            "\u001b[0;31m---------------------------------------------------------------------------\u001b[0m",
            "\u001b[0;31mIllegalArgumentException\u001b[0m                  Traceback (most recent call last)",
            "\u001b[0;32m<ipython-input-23-f9c1db8c65f3>\u001b[0m in \u001b[0;36m<cell line: 21>\u001b[0;34m()\u001b[0m\n\u001b[1;32m     19\u001b[0m \u001b[0;34m\u001b[0m\u001b[0m\n\u001b[1;32m     20\u001b[0m \u001b[0;31m# Step 5: Train the model (fit the pipeline)\u001b[0m\u001b[0;34m\u001b[0m\u001b[0;34m\u001b[0m\u001b[0m\n\u001b[0;32m---> 21\u001b[0;31m \u001b[0mmodel\u001b[0m \u001b[0;34m=\u001b[0m \u001b[0mpipeline\u001b[0m\u001b[0;34m.\u001b[0m\u001b[0mfit\u001b[0m\u001b[0;34m(\u001b[0m\u001b[0mcrime_data_spark\u001b[0m\u001b[0;34m)\u001b[0m\u001b[0;34m\u001b[0m\u001b[0;34m\u001b[0m\u001b[0m\n\u001b[0m\u001b[1;32m     22\u001b[0m \u001b[0;34m\u001b[0m\u001b[0m\n\u001b[1;32m     23\u001b[0m \u001b[0;31m# Step 6: Extract the trained Decision Tree model\u001b[0m\u001b[0;34m\u001b[0m\u001b[0;34m\u001b[0m\u001b[0m\n",
            "\u001b[0;32m/usr/local/lib/python3.10/dist-packages/pyspark/ml/base.py\u001b[0m in \u001b[0;36mfit\u001b[0;34m(self, dataset, params)\u001b[0m\n\u001b[1;32m    203\u001b[0m                 \u001b[0;32mreturn\u001b[0m \u001b[0mself\u001b[0m\u001b[0;34m.\u001b[0m\u001b[0mcopy\u001b[0m\u001b[0;34m(\u001b[0m\u001b[0mparams\u001b[0m\u001b[0;34m)\u001b[0m\u001b[0;34m.\u001b[0m\u001b[0m_fit\u001b[0m\u001b[0;34m(\u001b[0m\u001b[0mdataset\u001b[0m\u001b[0;34m)\u001b[0m\u001b[0;34m\u001b[0m\u001b[0;34m\u001b[0m\u001b[0m\n\u001b[1;32m    204\u001b[0m             \u001b[0;32melse\u001b[0m\u001b[0;34m:\u001b[0m\u001b[0;34m\u001b[0m\u001b[0;34m\u001b[0m\u001b[0m\n\u001b[0;32m--> 205\u001b[0;31m                 \u001b[0;32mreturn\u001b[0m \u001b[0mself\u001b[0m\u001b[0;34m.\u001b[0m\u001b[0m_fit\u001b[0m\u001b[0;34m(\u001b[0m\u001b[0mdataset\u001b[0m\u001b[0;34m)\u001b[0m\u001b[0;34m\u001b[0m\u001b[0;34m\u001b[0m\u001b[0m\n\u001b[0m\u001b[1;32m    206\u001b[0m         \u001b[0;32melse\u001b[0m\u001b[0;34m:\u001b[0m\u001b[0;34m\u001b[0m\u001b[0;34m\u001b[0m\u001b[0m\n\u001b[1;32m    207\u001b[0m             raise TypeError(\n",
            "\u001b[0;32m/usr/local/lib/python3.10/dist-packages/pyspark/ml/pipeline.py\u001b[0m in \u001b[0;36m_fit\u001b[0;34m(self, dataset)\u001b[0m\n\u001b[1;32m    130\u001b[0m                 \u001b[0;32mif\u001b[0m \u001b[0misinstance\u001b[0m\u001b[0;34m(\u001b[0m\u001b[0mstage\u001b[0m\u001b[0;34m,\u001b[0m \u001b[0mTransformer\u001b[0m\u001b[0;34m)\u001b[0m\u001b[0;34m:\u001b[0m\u001b[0;34m\u001b[0m\u001b[0;34m\u001b[0m\u001b[0m\n\u001b[1;32m    131\u001b[0m                     \u001b[0mtransformers\u001b[0m\u001b[0;34m.\u001b[0m\u001b[0mappend\u001b[0m\u001b[0;34m(\u001b[0m\u001b[0mstage\u001b[0m\u001b[0;34m)\u001b[0m\u001b[0;34m\u001b[0m\u001b[0;34m\u001b[0m\u001b[0m\n\u001b[0;32m--> 132\u001b[0;31m                     \u001b[0mdataset\u001b[0m \u001b[0;34m=\u001b[0m \u001b[0mstage\u001b[0m\u001b[0;34m.\u001b[0m\u001b[0mtransform\u001b[0m\u001b[0;34m(\u001b[0m\u001b[0mdataset\u001b[0m\u001b[0;34m)\u001b[0m\u001b[0;34m\u001b[0m\u001b[0;34m\u001b[0m\u001b[0m\n\u001b[0m\u001b[1;32m    133\u001b[0m                 \u001b[0;32melse\u001b[0m\u001b[0;34m:\u001b[0m  \u001b[0;31m# must be an Estimator\u001b[0m\u001b[0;34m\u001b[0m\u001b[0;34m\u001b[0m\u001b[0m\n\u001b[1;32m    134\u001b[0m                     \u001b[0mmodel\u001b[0m \u001b[0;34m=\u001b[0m \u001b[0mstage\u001b[0m\u001b[0;34m.\u001b[0m\u001b[0mfit\u001b[0m\u001b[0;34m(\u001b[0m\u001b[0mdataset\u001b[0m\u001b[0;34m)\u001b[0m\u001b[0;34m\u001b[0m\u001b[0;34m\u001b[0m\u001b[0m\n",
            "\u001b[0;32m/usr/local/lib/python3.10/dist-packages/pyspark/ml/base.py\u001b[0m in \u001b[0;36mtransform\u001b[0;34m(self, dataset, params)\u001b[0m\n\u001b[1;32m    260\u001b[0m                 \u001b[0;32mreturn\u001b[0m \u001b[0mself\u001b[0m\u001b[0;34m.\u001b[0m\u001b[0mcopy\u001b[0m\u001b[0;34m(\u001b[0m\u001b[0mparams\u001b[0m\u001b[0;34m)\u001b[0m\u001b[0;34m.\u001b[0m\u001b[0m_transform\u001b[0m\u001b[0;34m(\u001b[0m\u001b[0mdataset\u001b[0m\u001b[0;34m)\u001b[0m\u001b[0;34m\u001b[0m\u001b[0;34m\u001b[0m\u001b[0m\n\u001b[1;32m    261\u001b[0m             \u001b[0;32melse\u001b[0m\u001b[0;34m:\u001b[0m\u001b[0;34m\u001b[0m\u001b[0;34m\u001b[0m\u001b[0m\n\u001b[0;32m--> 262\u001b[0;31m                 \u001b[0;32mreturn\u001b[0m \u001b[0mself\u001b[0m\u001b[0;34m.\u001b[0m\u001b[0m_transform\u001b[0m\u001b[0;34m(\u001b[0m\u001b[0mdataset\u001b[0m\u001b[0;34m)\u001b[0m\u001b[0;34m\u001b[0m\u001b[0;34m\u001b[0m\u001b[0m\n\u001b[0m\u001b[1;32m    263\u001b[0m         \u001b[0;32melse\u001b[0m\u001b[0;34m:\u001b[0m\u001b[0;34m\u001b[0m\u001b[0;34m\u001b[0m\u001b[0m\n\u001b[1;32m    264\u001b[0m             \u001b[0;32mraise\u001b[0m \u001b[0mTypeError\u001b[0m\u001b[0;34m(\u001b[0m\u001b[0;34m\"Params must be a param map but got %s.\"\u001b[0m \u001b[0;34m%\u001b[0m \u001b[0mtype\u001b[0m\u001b[0;34m(\u001b[0m\u001b[0mparams\u001b[0m\u001b[0;34m)\u001b[0m\u001b[0;34m)\u001b[0m\u001b[0;34m\u001b[0m\u001b[0;34m\u001b[0m\u001b[0m\n",
            "\u001b[0;32m/usr/local/lib/python3.10/dist-packages/pyspark/ml/wrapper.py\u001b[0m in \u001b[0;36m_transform\u001b[0;34m(self, dataset)\u001b[0m\n\u001b[1;32m    396\u001b[0m \u001b[0;34m\u001b[0m\u001b[0m\n\u001b[1;32m    397\u001b[0m         \u001b[0mself\u001b[0m\u001b[0;34m.\u001b[0m\u001b[0m_transfer_params_to_java\u001b[0m\u001b[0;34m(\u001b[0m\u001b[0;34m)\u001b[0m\u001b[0;34m\u001b[0m\u001b[0;34m\u001b[0m\u001b[0m\n\u001b[0;32m--> 398\u001b[0;31m         \u001b[0;32mreturn\u001b[0m \u001b[0mDataFrame\u001b[0m\u001b[0;34m(\u001b[0m\u001b[0mself\u001b[0m\u001b[0;34m.\u001b[0m\u001b[0m_java_obj\u001b[0m\u001b[0;34m.\u001b[0m\u001b[0mtransform\u001b[0m\u001b[0;34m(\u001b[0m\u001b[0mdataset\u001b[0m\u001b[0;34m.\u001b[0m\u001b[0m_jdf\u001b[0m\u001b[0;34m)\u001b[0m\u001b[0;34m,\u001b[0m \u001b[0mdataset\u001b[0m\u001b[0;34m.\u001b[0m\u001b[0msparkSession\u001b[0m\u001b[0;34m)\u001b[0m\u001b[0;34m\u001b[0m\u001b[0;34m\u001b[0m\u001b[0m\n\u001b[0m\u001b[1;32m    399\u001b[0m \u001b[0;34m\u001b[0m\u001b[0m\n\u001b[1;32m    400\u001b[0m \u001b[0;34m\u001b[0m\u001b[0m\n",
            "\u001b[0;32m/usr/local/lib/python3.10/dist-packages/py4j/java_gateway.py\u001b[0m in \u001b[0;36m__call__\u001b[0;34m(self, *args)\u001b[0m\n\u001b[1;32m   1320\u001b[0m \u001b[0;34m\u001b[0m\u001b[0m\n\u001b[1;32m   1321\u001b[0m         \u001b[0manswer\u001b[0m \u001b[0;34m=\u001b[0m \u001b[0mself\u001b[0m\u001b[0;34m.\u001b[0m\u001b[0mgateway_client\u001b[0m\u001b[0;34m.\u001b[0m\u001b[0msend_command\u001b[0m\u001b[0;34m(\u001b[0m\u001b[0mcommand\u001b[0m\u001b[0;34m)\u001b[0m\u001b[0;34m\u001b[0m\u001b[0;34m\u001b[0m\u001b[0m\n\u001b[0;32m-> 1322\u001b[0;31m         return_value = get_return_value(\n\u001b[0m\u001b[1;32m   1323\u001b[0m             answer, self.gateway_client, self.target_id, self.name)\n\u001b[1;32m   1324\u001b[0m \u001b[0;34m\u001b[0m\u001b[0m\n",
            "\u001b[0;32m/usr/local/lib/python3.10/dist-packages/pyspark/errors/exceptions/captured.py\u001b[0m in \u001b[0;36mdeco\u001b[0;34m(*a, **kw)\u001b[0m\n\u001b[1;32m    183\u001b[0m                 \u001b[0;31m# Hide where the exception came from that shows a non-Pythonic\u001b[0m\u001b[0;34m\u001b[0m\u001b[0;34m\u001b[0m\u001b[0m\n\u001b[1;32m    184\u001b[0m                 \u001b[0;31m# JVM exception message.\u001b[0m\u001b[0;34m\u001b[0m\u001b[0;34m\u001b[0m\u001b[0m\n\u001b[0;32m--> 185\u001b[0;31m                 \u001b[0;32mraise\u001b[0m \u001b[0mconverted\u001b[0m \u001b[0;32mfrom\u001b[0m \u001b[0;32mNone\u001b[0m\u001b[0;34m\u001b[0m\u001b[0;34m\u001b[0m\u001b[0m\n\u001b[0m\u001b[1;32m    186\u001b[0m             \u001b[0;32melse\u001b[0m\u001b[0;34m:\u001b[0m\u001b[0;34m\u001b[0m\u001b[0;34m\u001b[0m\u001b[0m\n\u001b[1;32m    187\u001b[0m                 \u001b[0;32mraise\u001b[0m\u001b[0;34m\u001b[0m\u001b[0;34m\u001b[0m\u001b[0m\n",
            "\u001b[0;31mIllegalArgumentException\u001b[0m: Output column features already exists."
          ]
        }
      ]
    }
  ]
}